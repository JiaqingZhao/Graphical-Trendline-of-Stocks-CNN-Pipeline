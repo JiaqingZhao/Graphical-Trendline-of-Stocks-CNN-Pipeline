{
 "cells": [
  {
   "cell_type": "code",
   "execution_count": 1,
   "metadata": {},
   "outputs": [],
   "source": [
    "import pandas as pd\n",
    "import datetime\n",
    "import os\n",
    "import matplotlib.pyplot as plt\n",
    "import matplotlib.dates as mdates\n",
    "from mpl_finance import candlestick_ohlc"
   ]
  },
  {
   "cell_type": "markdown",
   "metadata": {},
   "source": [
    "## DATA DOWNLOADING (RIGHT NOW USE TESTING DATA)"
   ]
  },
  {
   "cell_type": "code",
   "execution_count": 2,
   "metadata": {},
   "outputs": [],
   "source": [
    "data = pd.read_csv(\"Data/aapl_us_d.csv\")"
   ]
  },
  {
   "cell_type": "code",
   "execution_count": 3,
   "metadata": {},
   "outputs": [],
   "source": [
    "stock_price_df = data    \n",
    "stock_price_df['Date'] = pd.to_datetime(stock_price_df['Date'])\n",
    "stock_price_df[\"Date\"] = stock_price_df[\"Date\"].apply(mdates.date2num)"
   ]
  },
  {
   "cell_type": "markdown",
   "metadata": {},
   "source": [
    "## Set Parameter and segment DF"
   ]
  },
  {
   "cell_type": "code",
   "execution_count": 4,
   "metadata": {},
   "outputs": [],
   "source": [
    "l_period = 30\n",
    "p_period = 10\n",
    "criteria = {\n",
    "    \"down\":[-1,-.05],\n",
    "    \"same\":[-.05,0.04],\n",
    "    \"up\":[.04,1]\n",
    "}"
   ]
  },
  {
   "cell_type": "code",
   "execution_count": 46,
   "metadata": {},
   "outputs": [],
   "source": [
    "def graph_section(df,catagory,filename,path):\n",
    "\n",
    "    # Creating required data in new DataFrame OHLC\n",
    "    ohlc= df[['Date', 'Open', 'High', 'Low','Close']].copy()\n",
    "    f1, ax = plt.subplots(figsize = (20,10))\n",
    "\n",
    "    # plot the candlesticks\n",
    "    candlestick_ohlc(ax, ohlc.values, width=.6, colorup='green', colordown='red')\n",
    "    ax.xaxis.set_major_formatter(mdates.DateFormatter('%Y-%m-%d'))\n",
    "    \n",
    "    directory = path + catagory\n",
    "    if not os.path.exists(directory):\n",
    "        os.makedirs(directory)\n",
    "    filepath = directory + \"/\" + filename + \".png\"\n",
    "    plt.savefig(filepath)\n",
    "    \n",
    "    \n",
    "def graph_section_candlestick(df,catagory,filename,path):\n",
    "\n",
    "    # Creating required data in new DataFrame OHLC\n",
    "    ohlc= df[['Date', 'Open', 'High', 'Low','Close']].copy()\n",
    "    f1, ax = plt.subplots(figsize = (20,10))\n",
    "\n",
    "    # plot the candlesticks\n",
    "    candlestick_ohlc(ax, ohlc.values, width=.6, colorup='green', colordown='red')\n",
    "    ax.xaxis.set_major_formatter(mdates.DateFormatter('%Y-%m-%d'))\n",
    "    \n",
    "    directory = path + catagory\n",
    "    if not os.path.exists(directory):\n",
    "        os.makedirs(directory)\n",
    "    filepath = directory + \"/\" + filename + \".png\"\n",
    "    plt.savefig(filepath)\n",
    "\n",
    "def catagorizer(x,criteria):\n",
    "    for i in criteria:\n",
    "        if x > criteria[i][0] and x <= criteria[i][1]:\n",
    "            return i\n",
    "        else:\n",
    "            pass"
   ]
  },
  {
   "cell_type": "code",
   "execution_count": 47,
   "metadata": {},
   "outputs": [],
   "source": [
    "def makeData(df,l_period, p_period, criteria): \n",
    "    print(l_period + 1,df.shape[0], p_period)\n",
    "    if df.shape[0] < l_period + 1:\n",
    "        raise ValueError('Insufficient number of rows.')\n",
    "    for i in range(l_period + 1,df.shape[0] - p_period, p_period):\n",
    "        \n",
    "        diff = (df.iloc[i + p_period][\"Close\"] - df.iloc[i][\"Close\"]) / float(df.iloc[i][\"Close\"]) \n",
    "        cata_name = catagorizer(diff, criteria)\n",
    "        print(float(i) * p_period/(df.shape[0] - p_period),cata_name)\n",
    "        graph_section(df.iloc[(i - l_period - 1):(i-1)],cata_name,str(df.iloc[i][\"Date\"]),\"Output/\")"
   ]
  },
  {
   "cell_type": "code",
   "execution_count": 6,
   "metadata": {},
   "outputs": [],
   "source": [
    "df = stock_price_df.head(10)\n",
    "#makeData(df,l_period, p_period, criteria)"
   ]
  },
  {
   "cell_type": "code",
   "execution_count": 10,
   "metadata": {},
   "outputs": [
    {
     "data": {
      "text/plain": [
       "Text(0, 0.5, 'Close')"
      ]
     },
     "execution_count": 10,
     "metadata": {},
     "output_type": "execute_result"
    },
    {
     "data": {
      "image/png": "[encoded data removed]",
      "text/plain": [
       "<Figure size 432x288 with 1 Axes>"
      ]
     },
     "metadata": {
      "needs_background": "light"
     },
     "output_type": "display_data"
    }
   ],
   "source": [
    "plt.plot(df['Date'], df['Close'])\n",
    "\n",
    "# Adding labels\n",
    "plt.xlabel('Date')  \n",
    "plt.ylabel('Close')  \n",
    "#plt.title('Simple time series plot for HDFC') \n",
    "\n",
    "# Saving image\n",
    "\n",
    "#plt.savefig('Simple time series plot for HDFC.png')\n",
    "\n",
    "# In case you dont want to save image but just displya it\n",
    "#plt.show()"
   ]
  },
  {
   "cell_type": "code",
   "execution_count": null,
   "metadata": {},
   "outputs": [],
   "source": []
  },
  {
   "cell_type": "code",
   "execution_count": null,
   "metadata": {},
   "outputs": [],
   "source": []
  },
  {
   "cell_type": "code",
   "execution_count": 107,
   "metadata": {},
   "outputs": [],
   "source": []
  },
  {
   "cell_type": "code",
   "execution_count": null,
   "metadata": {},
   "outputs": [],
   "source": []
  }
 ],
 "metadata": {
  "kernelspec": {
   "display_name": "Python 3",
   "language": "python",
   "name": "python3"
  },
  "language_info": {
   "codemirror_mode": {
    "name": "ipython",
    "version": 3
   },
   "file_extension": ".py",
   "mimetype": "text/x-python",
   "name": "python",
   "nbconvert_exporter": "python",
   "pygments_lexer": "ipython3",
   "version": "3.6.6"
  }
 },
 "nbformat": 4,
 "nbformat_minor": 2
}
